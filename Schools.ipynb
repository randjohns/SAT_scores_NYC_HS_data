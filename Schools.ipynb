{
 "cells": [
  {
   "cell_type": "markdown",
   "metadata": {},
   "source": [
    "# A Study of High School Factors Affecting Students' SAT Peformance\n",
    "\n",
    "This study examines factors such as class size, school location, demographics, school safety, and more, on students' SAT performance. The sample consists of public schools (including charter schools) in New York, NY."
   ]
  },
  {
   "cell_type": "markdown",
   "metadata": {},
   "source": [
    "# Read in the data"
   ]
  },
  {
   "cell_type": "code",
   "execution_count": 1,
   "metadata": {},
   "outputs": [],
   "source": [
    "import pandas as pd\n",
    "import numpy\n",
    "import re\n",
    "\n",
    "# Load the data sets of interest into a list of files\n",
    "data_files = [\n",
    "    \"ap_2010.csv\",\n",
    "    \"class_size.csv\",\n",
    "    \"demographics.csv\",\n",
    "    \"graduation.csv\",\n",
    "    \"hs_directory.csv\",\n",
    "    \"sat_results.csv\"\n",
    "]\n",
    "\n",
    "data = {}\n",
    "\n",
    "# Read each .csv file into a pandas dataframe and create\n",
    "# a dictionary containing the various dataframes\n",
    "for f in data_files:\n",
    "    d = pd.read_csv(\"schools/{0}\".format(f))\n",
    "    data[f.replace(\".csv\", \"\")] = d"
   ]
  },
  {
   "cell_type": "markdown",
   "metadata": {},
   "source": [
    "# Read in the surveys"
   ]
  },
  {
   "cell_type": "code",
   "execution_count": 2,
   "metadata": {},
   "outputs": [],
   "source": [
    "all_survey = pd.read_csv(\"schools/survey_all.txt\", delimiter=\"\\t\", encoding='windows-1252')\n",
    "d75_survey = pd.read_csv(\"schools/survey_d75.txt\", delimiter=\"\\t\", encoding='windows-1252')\n",
    "survey = pd.concat([all_survey, d75_survey], axis=0)\n",
    "\n",
    "survey[\"DBN\"] = survey[\"dbn\"]\n",
    "\n",
    "survey_fields = [\n",
    "    \"DBN\", \n",
    "    \"rr_s\", \n",
    "    \"rr_t\", \n",
    "    \"rr_p\", \n",
    "    \"N_s\", \n",
    "    \"N_t\", \n",
    "    \"N_p\", \n",
    "    \"saf_p_11\", \n",
    "    \"com_p_11\", \n",
    "    \"eng_p_11\", \n",
    "    \"aca_p_11\", \n",
    "    \"saf_t_11\", \n",
    "    \"com_t_11\", \n",
    "    \"eng_t_11\", \n",
    "    \"aca_t_11\", \n",
    "    \"saf_s_11\", \n",
    "    \"com_s_11\", \n",
    "    \"eng_s_11\", \n",
    "    \"aca_s_11\", \n",
    "    \"saf_tot_11\", \n",
    "    \"com_tot_11\", \n",
    "    \"eng_tot_11\", \n",
    "    \"aca_tot_11\",\n",
    "]\n",
    "survey = survey.loc[:,survey_fields]\n",
    "data[\"survey\"] = survey"
   ]
  },
  {
   "cell_type": "markdown",
   "metadata": {},
   "source": [
    "# Add DBN columns"
   ]
  },
  {
   "cell_type": "code",
   "execution_count": 3,
   "metadata": {},
   "outputs": [],
   "source": [
    "# Each school has a unique 'DBN' identifier number\n",
    "data[\"hs_directory\"][\"DBN\"] = data[\"hs_directory\"][\"dbn\"]\n",
    "\n",
    "def pad_csd(num):\n",
    "    string_representation = str(num)\n",
    "    if len(string_representation) > 1:\n",
    "        return string_representation\n",
    "    else:\n",
    "        return \"0\" + string_representation\n",
    "    \n",
    "data[\"class_size\"][\"padded_csd\"] = data[\"class_size\"][\"CSD\"].apply(pad_csd)\n",
    "data[\"class_size\"][\"DBN\"] = data[\"class_size\"][\"padded_csd\"] + data[\"class_size\"][\"SCHOOL CODE\"]"
   ]
  },
  {
   "cell_type": "markdown",
   "metadata": {},
   "source": [
    "# Convert columns to numeric"
   ]
  },
  {
   "cell_type": "code",
   "execution_count": 4,
   "metadata": {},
   "outputs": [],
   "source": [
    "cols = ['SAT Math Avg. Score', 'SAT Critical Reading Avg. Score', 'SAT Writing Avg. Score']\n",
    "for c in cols:\n",
    "    data[\"sat_results\"][c] = pd.to_numeric(data[\"sat_results\"][c], errors=\"coerce\")\n",
    "\n",
    "data['sat_results']['sat_score'] = data['sat_results'][cols[0]] + data['sat_results'][cols[1]] + data['sat_results'][cols[2]]\n",
    "\n",
    "def find_lat(loc):\n",
    "    coords = re.findall(\"\\(.+, .+\\)\", loc)\n",
    "    lat = coords[0].split(\",\")[0].replace(\"(\", \"\")\n",
    "    return lat\n",
    "\n",
    "def find_lon(loc):\n",
    "    coords = re.findall(\"\\(.+, .+\\)\", loc)\n",
    "    lon = coords[0].split(\",\")[1].replace(\")\", \"\").strip()\n",
    "    return lon\n",
    "\n",
    "data[\"hs_directory\"][\"lat\"] = data[\"hs_directory\"][\"Location 1\"].apply(find_lat)\n",
    "data[\"hs_directory\"][\"lon\"] = data[\"hs_directory\"][\"Location 1\"].apply(find_lon)\n",
    "\n",
    "data[\"hs_directory\"][\"lat\"] = pd.to_numeric(data[\"hs_directory\"][\"lat\"], errors=\"coerce\")\n",
    "data[\"hs_directory\"][\"lon\"] = pd.to_numeric(data[\"hs_directory\"][\"lon\"], errors=\"coerce\")"
   ]
  },
  {
   "cell_type": "markdown",
   "metadata": {},
   "source": [
    "# Condense datasets"
   ]
  },
  {
   "cell_type": "code",
   "execution_count": 5,
   "metadata": {},
   "outputs": [],
   "source": [
    "class_size = data[\"class_size\"]\n",
    "class_size = class_size[class_size[\"GRADE \"] == \"09-12\"]\n",
    "class_size = class_size[class_size[\"PROGRAM TYPE\"] == \"GEN ED\"]\n",
    "\n",
    "class_size = class_size.groupby(\"DBN\").agg(numpy.mean)\n",
    "class_size.reset_index(inplace=True)\n",
    "data[\"class_size\"] = class_size\n",
    "\n",
    "data[\"demographics\"] = data[\"demographics\"][data[\"demographics\"][\"schoolyear\"] == 20112012]\n",
    "\n",
    "data[\"graduation\"] = data[\"graduation\"][data[\"graduation\"][\"Cohort\"] == \"2006\"]\n",
    "data[\"graduation\"] = data[\"graduation\"][data[\"graduation\"][\"Demographic\"] == \"Total Cohort\"]"
   ]
  },
  {
   "cell_type": "markdown",
   "metadata": {},
   "source": [
    "# Convert AP scores to numeric"
   ]
  },
  {
   "cell_type": "code",
   "execution_count": 6,
   "metadata": {},
   "outputs": [],
   "source": [
    "cols = ['AP Test Takers ', 'Total Exams Taken', 'Number of Exams with scores 3 4 or 5']\n",
    "\n",
    "for col in cols:\n",
    "    data[\"ap_2010\"][col] = pd.to_numeric(data[\"ap_2010\"][col], errors=\"coerce\")"
   ]
  },
  {
   "cell_type": "markdown",
   "metadata": {},
   "source": [
    "# Combine the datasets"
   ]
  },
  {
   "cell_type": "code",
   "execution_count": 7,
   "metadata": {},
   "outputs": [],
   "source": [
    "combined = data[\"sat_results\"]\n",
    "\n",
    "combined = combined.merge(data[\"ap_2010\"], on=\"DBN\", how=\"left\")\n",
    "combined = combined.merge(data[\"graduation\"], on=\"DBN\", how=\"left\")\n",
    "\n",
    "to_merge = [\"class_size\", \"demographics\", \"survey\", \"hs_directory\"]\n",
    "\n",
    "for m in to_merge:\n",
    "    combined = combined.merge(data[m], on=\"DBN\", how=\"inner\")\n",
    "\n",
    "combined = combined.fillna(combined.mean())\n",
    "combined = combined.fillna(0)"
   ]
  },
  {
   "cell_type": "markdown",
   "metadata": {},
   "source": [
    "# Add a school district column for mapping"
   ]
  },
  {
   "cell_type": "code",
   "execution_count": 8,
   "metadata": {},
   "outputs": [],
   "source": [
    "def get_first_two_chars(dbn):\n",
    "    return dbn[0:2]\n",
    "\n",
    "combined[\"school_dist\"] = combined[\"DBN\"].apply(get_first_two_chars)"
   ]
  },
  {
   "cell_type": "markdown",
   "metadata": {},
   "source": [
    "# Find correlations"
   ]
  },
  {
   "cell_type": "code",
   "execution_count": 9,
   "metadata": {},
   "outputs": [
    {
     "name": "stdout",
     "output_type": "stream",
     "text": [
      "SAT Critical Reading Avg. Score    0.986820\n",
      "SAT Math Avg. Score                0.972643\n",
      "SAT Writing Avg. Score             0.987771\n",
      "sat_score                          1.000000\n",
      "AP Test Takers                     0.523140\n",
      "                                     ...   \n",
      "priority08                              NaN\n",
      "priority09                              NaN\n",
      "priority10                              NaN\n",
      "lat                               -0.121029\n",
      "lon                               -0.132222\n",
      "Name: sat_score, Length: 67, dtype: float64\n"
     ]
    }
   ],
   "source": [
    "correlations = combined.corr()\n",
    "correlations = correlations[\"sat_score\"]\n",
    "print(correlations)"
   ]
  },
  {
   "cell_type": "markdown",
   "metadata": {},
   "source": [
    "# Plotting survey correlations"
   ]
  },
  {
   "cell_type": "code",
   "execution_count": 10,
   "metadata": {},
   "outputs": [],
   "source": [
    "# Remove DBN since it's a unique identifier, not a useful numerical value for correlation.\n",
    "survey_fields.remove(\"DBN\")\n"
   ]
  },
  {
   "cell_type": "code",
   "execution_count": 11,
   "metadata": {},
   "outputs": [
    {
     "data": {
      "text/plain": [
       "['rr_s',\n",
       " 'rr_t',\n",
       " 'rr_p',\n",
       " 'N_s',\n",
       " 'N_t',\n",
       " 'N_p',\n",
       " 'saf_p_11',\n",
       " 'com_p_11',\n",
       " 'eng_p_11',\n",
       " 'aca_p_11',\n",
       " 'saf_t_11',\n",
       " 'com_t_11',\n",
       " 'eng_t_11',\n",
       " 'aca_t_11',\n",
       " 'saf_s_11',\n",
       " 'com_s_11',\n",
       " 'eng_s_11',\n",
       " 'aca_s_11',\n",
       " 'saf_tot_11',\n",
       " 'com_tot_11',\n",
       " 'eng_tot_11',\n",
       " 'aca_tot_11']"
      ]
     },
     "execution_count": 11,
     "metadata": {},
     "output_type": "execute_result"
    }
   ],
   "source": [
    "# print out the column names contained within the survey\n",
    "survey_fields"
   ]
  },
  {
   "cell_type": "code",
   "execution_count": 12,
   "metadata": {},
   "outputs": [
    {
     "data": {
      "text/plain": [
       "<matplotlib.axes._subplots.AxesSubplot at 0x7fb00a723410>"
      ]
     },
     "execution_count": 12,
     "metadata": {},
     "output_type": "execute_result"
    },
    {
     "data": {
      "image/png": "[encoded data removed]",
      "text/plain": [
       "<Figure size 432x288 with 1 Axes>"
      ]
     },
     "metadata": {
      "needs_background": "light"
     },
     "output_type": "display_data"
    }
   ],
   "source": [
    "%matplotlib inline\n",
    "\n",
    "correlations[survey_fields].plot.barh()"
   ]
  },
  {
   "cell_type": "markdown",
   "metadata": {},
   "source": [
    "There are a number of correlations that seem surprising and one could say that the students' involvement with the mission and operations of the school makes the biggest difference. The surveyed factors of students' academic expectations and safety and respect are positively correlated with SAT scores. For the teachers surveyed, the safety factor was the one notable correlation.\n",
    "\n",
    "Number of survey respondents made a notable positive correlation to SAT scores. \n",
    "\n"
   ]
  },
  {
   "cell_type": "markdown",
   "metadata": {},
   "source": [
    "# Plotting Safety Scores\n",
    "\n",
    "Both teachers' and students' perceived safety and respect at school are correlated with SAT scores."
   ]
  },
  {
   "cell_type": "code",
   "execution_count": 13,
   "metadata": {},
   "outputs": [
    {
     "data": {
      "text/plain": [
       "<matplotlib.axes._subplots.AxesSubplot at 0x7fb00a52eb10>"
      ]
     },
     "execution_count": 13,
     "metadata": {},
     "output_type": "execute_result"
    },
    {
     "data": {
      "image/png": "[encoded data removed]",
      "text/plain": [
       "<Figure size 432x288 with 1 Axes>"
      ]
     },
     "metadata": {
      "needs_background": "light"
     },
     "output_type": "display_data"
    }
   ],
   "source": [
    "combined.plot.scatter(x='saf_s_11', y='sat_score')"
   ]
  },
  {
   "cell_type": "markdown",
   "metadata": {},
   "source": [
    "The correlation scatter plot of student safety ratings of a school show a positive correlation with SAT scores. So, as safety ratings are higher, there is a tendency for higher SAT scores.\n",
    "\n",
    "There is a dense cluster of observations in the lower safety and lower SAT ranges of safety below 7 and SAT scores below 1400, so we need to look more deeply at safety scores by school district."
   ]
  },
  {
   "cell_type": "markdown",
   "metadata": {},
   "source": [
    "# Mapping Safety Scores\n",
    "\n",
    "We'll use the average safety score listed in the 'saf_tot_11' column for each school to calculate the average safety and respct score for each school district (as identified in the 'school_dist' column) and then make a map that shows safety scores by district."
   ]
  },
  {
   "cell_type": "code",
   "execution_count": 14,
   "metadata": {
    "scrolled": true
   },
   "outputs": [
    {
     "data": {
      "text/html": [
       "<div>\n",
       "<style scoped>\n",
       "    .dataframe tbody tr th:only-of-type {\n",
       "        vertical-align: middle;\n",
       "    }\n",
       "\n",
       "    .dataframe tbody tr th {\n",
       "        vertical-align: top;\n",
       "    }\n",
       "\n",
       "    .dataframe thead th {\n",
       "        text-align: right;\n",
       "    }\n",
       "</style>\n",
       "<table border=\"1\" class=\"dataframe\">\n",
       "  <thead>\n",
       "    <tr style=\"text-align: right;\">\n",
       "      <th></th>\n",
       "      <th>SAT Critical Reading Avg. Score</th>\n",
       "      <th>SAT Math Avg. Score</th>\n",
       "      <th>SAT Writing Avg. Score</th>\n",
       "      <th>sat_score</th>\n",
       "      <th>AP Test Takers</th>\n",
       "      <th>Total Exams Taken</th>\n",
       "      <th>Number of Exams with scores 3 4 or 5</th>\n",
       "      <th>Total Cohort</th>\n",
       "      <th>CSD</th>\n",
       "      <th>NUMBER OF STUDENTS / SEATS FILLED</th>\n",
       "      <th>...</th>\n",
       "      <th>grade_span_max</th>\n",
       "      <th>expgrade_span_max</th>\n",
       "      <th>zip</th>\n",
       "      <th>total_students</th>\n",
       "      <th>number_programs</th>\n",
       "      <th>priority08</th>\n",
       "      <th>priority09</th>\n",
       "      <th>priority10</th>\n",
       "      <th>lat</th>\n",
       "      <th>lon</th>\n",
       "    </tr>\n",
       "    <tr>\n",
       "      <th>school_dist</th>\n",
       "      <th></th>\n",
       "      <th></th>\n",
       "      <th></th>\n",
       "      <th></th>\n",
       "      <th></th>\n",
       "      <th></th>\n",
       "      <th></th>\n",
       "      <th></th>\n",
       "      <th></th>\n",
       "      <th></th>\n",
       "      <th></th>\n",
       "      <th></th>\n",
       "      <th></th>\n",
       "      <th></th>\n",
       "      <th></th>\n",
       "      <th></th>\n",
       "      <th></th>\n",
       "      <th></th>\n",
       "      <th></th>\n",
       "      <th></th>\n",
       "      <th></th>\n",
       "    </tr>\n",
       "  </thead>\n",
       "  <tbody>\n",
       "    <tr>\n",
       "      <th>01</th>\n",
       "      <td>441.833333</td>\n",
       "      <td>473.333333</td>\n",
       "      <td>439.333333</td>\n",
       "      <td>1354.500000</td>\n",
       "      <td>116.681090</td>\n",
       "      <td>173.019231</td>\n",
       "      <td>135.800000</td>\n",
       "      <td>93.500000</td>\n",
       "      <td>1.0</td>\n",
       "      <td>115.244241</td>\n",
       "      <td>...</td>\n",
       "      <td>12.0</td>\n",
       "      <td>12.0</td>\n",
       "      <td>10003.166667</td>\n",
       "      <td>659.500000</td>\n",
       "      <td>1.333333</td>\n",
       "      <td>0.0</td>\n",
       "      <td>0.0</td>\n",
       "      <td>0.0</td>\n",
       "      <td>40.719022</td>\n",
       "      <td>-73.982377</td>\n",
       "    </tr>\n",
       "    <tr>\n",
       "      <th>02</th>\n",
       "      <td>426.619092</td>\n",
       "      <td>444.186256</td>\n",
       "      <td>424.832836</td>\n",
       "      <td>1295.638184</td>\n",
       "      <td>128.908454</td>\n",
       "      <td>201.516827</td>\n",
       "      <td>157.495833</td>\n",
       "      <td>158.647849</td>\n",
       "      <td>2.0</td>\n",
       "      <td>149.818949</td>\n",
       "      <td>...</td>\n",
       "      <td>12.0</td>\n",
       "      <td>12.0</td>\n",
       "      <td>10023.770833</td>\n",
       "      <td>621.395833</td>\n",
       "      <td>1.416667</td>\n",
       "      <td>0.0</td>\n",
       "      <td>0.0</td>\n",
       "      <td>0.0</td>\n",
       "      <td>40.739699</td>\n",
       "      <td>-73.991386</td>\n",
       "    </tr>\n",
       "    <tr>\n",
       "      <th>03</th>\n",
       "      <td>428.529851</td>\n",
       "      <td>437.997512</td>\n",
       "      <td>426.915672</td>\n",
       "      <td>1293.443035</td>\n",
       "      <td>156.183494</td>\n",
       "      <td>244.522436</td>\n",
       "      <td>193.087500</td>\n",
       "      <td>183.384409</td>\n",
       "      <td>3.0</td>\n",
       "      <td>156.005994</td>\n",
       "      <td>...</td>\n",
       "      <td>12.0</td>\n",
       "      <td>12.0</td>\n",
       "      <td>10023.750000</td>\n",
       "      <td>717.916667</td>\n",
       "      <td>2.000000</td>\n",
       "      <td>0.0</td>\n",
       "      <td>0.0</td>\n",
       "      <td>0.0</td>\n",
       "      <td>40.781574</td>\n",
       "      <td>-73.977370</td>\n",
       "    </tr>\n",
       "    <tr>\n",
       "      <th>04</th>\n",
       "      <td>402.142857</td>\n",
       "      <td>416.285714</td>\n",
       "      <td>405.714286</td>\n",
       "      <td>1224.142857</td>\n",
       "      <td>129.016484</td>\n",
       "      <td>183.879121</td>\n",
       "      <td>151.035714</td>\n",
       "      <td>113.857143</td>\n",
       "      <td>4.0</td>\n",
       "      <td>132.362265</td>\n",
       "      <td>...</td>\n",
       "      <td>12.0</td>\n",
       "      <td>12.0</td>\n",
       "      <td>10029.857143</td>\n",
       "      <td>580.857143</td>\n",
       "      <td>1.142857</td>\n",
       "      <td>0.0</td>\n",
       "      <td>0.0</td>\n",
       "      <td>0.0</td>\n",
       "      <td>40.793449</td>\n",
       "      <td>-73.943215</td>\n",
       "    </tr>\n",
       "    <tr>\n",
       "      <th>05</th>\n",
       "      <td>427.159915</td>\n",
       "      <td>438.236674</td>\n",
       "      <td>419.666098</td>\n",
       "      <td>1285.062687</td>\n",
       "      <td>85.722527</td>\n",
       "      <td>115.725275</td>\n",
       "      <td>142.464286</td>\n",
       "      <td>143.677419</td>\n",
       "      <td>5.0</td>\n",
       "      <td>120.623901</td>\n",
       "      <td>...</td>\n",
       "      <td>12.0</td>\n",
       "      <td>12.0</td>\n",
       "      <td>10030.142857</td>\n",
       "      <td>609.857143</td>\n",
       "      <td>1.142857</td>\n",
       "      <td>0.0</td>\n",
       "      <td>0.0</td>\n",
       "      <td>0.0</td>\n",
       "      <td>40.817077</td>\n",
       "      <td>-73.949251</td>\n",
       "    </tr>\n",
       "  </tbody>\n",
       "</table>\n",
       "<p>5 rows × 67 columns</p>\n",
       "</div>"
      ],
      "text/plain": [
       "             SAT Critical Reading Avg. Score  SAT Math Avg. Score  \\\n",
       "school_dist                                                         \n",
       "01                                441.833333           473.333333   \n",
       "02                                426.619092           444.186256   \n",
       "03                                428.529851           437.997512   \n",
       "04                                402.142857           416.285714   \n",
       "05                                427.159915           438.236674   \n",
       "\n",
       "             SAT Writing Avg. Score    sat_score  AP Test Takers   \\\n",
       "school_dist                                                         \n",
       "01                       439.333333  1354.500000       116.681090   \n",
       "02                       424.832836  1295.638184       128.908454   \n",
       "03                       426.915672  1293.443035       156.183494   \n",
       "04                       405.714286  1224.142857       129.016484   \n",
       "05                       419.666098  1285.062687        85.722527   \n",
       "\n",
       "             Total Exams Taken  Number of Exams with scores 3 4 or 5  \\\n",
       "school_dist                                                            \n",
       "01                  173.019231                            135.800000   \n",
       "02                  201.516827                            157.495833   \n",
       "03                  244.522436                            193.087500   \n",
       "04                  183.879121                            151.035714   \n",
       "05                  115.725275                            142.464286   \n",
       "\n",
       "             Total Cohort  CSD  NUMBER OF STUDENTS / SEATS FILLED  ...  \\\n",
       "school_dist                                                        ...   \n",
       "01              93.500000  1.0                         115.244241  ...   \n",
       "02             158.647849  2.0                         149.818949  ...   \n",
       "03             183.384409  3.0                         156.005994  ...   \n",
       "04             113.857143  4.0                         132.362265  ...   \n",
       "05             143.677419  5.0                         120.623901  ...   \n",
       "\n",
       "             grade_span_max  expgrade_span_max           zip  total_students  \\\n",
       "school_dist                                                                    \n",
       "01                     12.0               12.0  10003.166667      659.500000   \n",
       "02                     12.0               12.0  10023.770833      621.395833   \n",
       "03                     12.0               12.0  10023.750000      717.916667   \n",
       "04                     12.0               12.0  10029.857143      580.857143   \n",
       "05                     12.0               12.0  10030.142857      609.857143   \n",
       "\n",
       "             number_programs  priority08  priority09  priority10        lat  \\\n",
       "school_dist                                                                   \n",
       "01                  1.333333         0.0         0.0         0.0  40.719022   \n",
       "02                  1.416667         0.0         0.0         0.0  40.739699   \n",
       "03                  2.000000         0.0         0.0         0.0  40.781574   \n",
       "04                  1.142857         0.0         0.0         0.0  40.793449   \n",
       "05                  1.142857         0.0         0.0         0.0  40.817077   \n",
       "\n",
       "                   lon  \n",
       "school_dist             \n",
       "01          -73.982377  \n",
       "02          -73.991386  \n",
       "03          -73.977370  \n",
       "04          -73.943215  \n",
       "05          -73.949251  \n",
       "\n",
       "[5 rows x 67 columns]"
      ]
     },
     "execution_count": 14,
     "metadata": {},
     "output_type": "execute_result"
    }
   ],
   "source": [
    "import numpy as np\n",
    "\n",
    "# Aggregate the data by school district using mean calculations\n",
    "dist_safety = combined.groupby('school_dist').agg(np.mean)\n",
    "\n",
    "# The resulting dataframe includes average saftey scores and averaged latitude and longitude scores\n",
    "dist_safety.head()"
   ]
  },
  {
   "cell_type": "code",
   "execution_count": 15,
   "metadata": {},
   "outputs": [
    {
     "data": {
      "image/png": "[encoded data removed]",
      "text/plain": [
       "<Figure size 2016x720 with 2 Axes>"
      ]
     },
     "metadata": {
      "needs_background": "light"
     },
     "output_type": "display_data"
    }
   ],
   "source": [
    "# Import libraries to import a web image and display it\n",
    "from IPython.display import Image\n",
    "from IPython.core.display import HTML\n",
    "\n",
    "# Import libraries for mapping GPS coordinate of schools\n",
    "from mpl_toolkits.basemap import Basemap\n",
    "import matplotlib.pyplot as plt\n",
    "\n",
    "m = Basemap(projection='merc', llcrnrlat=40.496,urcrnrlat=40.915,\\\n",
    "            llcrnrlon=-74.255, urcrnrlon=-73.7, resolution='h')\n",
    "\n",
    "longitudes = dist_safety['lon'].tolist()\n",
    "latitudes = dist_safety['lat'].tolist()\n",
    "\n",
    "plt.figure(figsize=(28,10))\n",
    "\n",
    "\n",
    "m.fillcontinents(color=(207/255, 207/255, 207/255), lake_color='#DDEEFF')\n",
    "m.drawcoastlines(color=(89/255, 89/255, 89/255), linewidth=.7, zorder=1)\n",
    "m.drawmapboundary(fill_color=(95/255, 158/255, 209/255))\n",
    "\n",
    "m.scatter(longitudes, latitudes, s=85, zorder=2, latlon=True, c=dist_safety['saf_tot_11'], cmap='spring')\n",
    "plt.title('School District Safety & Respect Scores')\n",
    "plt.colorbar()\n",
    "plt.show()"
   ]
  },
  {
   "cell_type": "markdown",
   "metadata": {},
   "source": [
    "Manhattan and The Bronx school districts have uniformly higher scores of safety and repect than Brooklyn and Queens. Brooklyn contains the widest variation of scores, with one high-scoring school in the heart of southern Brooklyn and several low-scoring schools in the heart of northern Brooklyn. Queens has scores closer to those of Manhattan and Bronx, but the school districts on the far east side of Queens have lower safety and respect scores. Staten Island has one reported score--a middling value of safety and respect."
   ]
  },
  {
   "cell_type": "code",
   "execution_count": 16,
   "metadata": {},
   "outputs": [
    {
     "data": {
      "text/html": [
       "<img src=\"https://www.worldatlas.com/r/w960-q50/upload/c6/23/73/shutterstock-152208935.jpg\"/>"
      ],
      "text/plain": [
       "<IPython.core.display.Image object>"
      ]
     },
     "execution_count": 16,
     "metadata": {},
     "output_type": "execute_result"
    }
   ],
   "source": [
    "\n",
    "Image(url= \"https://www.worldatlas.com/r/w960-q50/upload/c6/23/73/shutterstock-152208935.jpg\")"
   ]
  },
  {
   "cell_type": "markdown",
   "metadata": {},
   "source": [
    "# Exploring Correlations of Ethnicity and SAT Scores\n",
    "\n",
    "Enthicity data for asian, black, hispanic, and white populations is contained in the data set. Next, we'll explore the correlations between ethnicity and SAT score."
   ]
  },
  {
   "cell_type": "code",
   "execution_count": 17,
   "metadata": {},
   "outputs": [
    {
     "data": {
      "text/html": [
       "<div>\n",
       "<style scoped>\n",
       "    .dataframe tbody tr th:only-of-type {\n",
       "        vertical-align: middle;\n",
       "    }\n",
       "\n",
       "    .dataframe tbody tr th {\n",
       "        vertical-align: top;\n",
       "    }\n",
       "\n",
       "    .dataframe thead th {\n",
       "        text-align: right;\n",
       "    }\n",
       "</style>\n",
       "<table border=\"1\" class=\"dataframe\">\n",
       "  <thead>\n",
       "    <tr style=\"text-align: right;\">\n",
       "      <th></th>\n",
       "      <th>sat_score</th>\n",
       "      <th>asian_per</th>\n",
       "      <th>black_per</th>\n",
       "      <th>hispanic_per</th>\n",
       "      <th>white_per</th>\n",
       "    </tr>\n",
       "  </thead>\n",
       "  <tbody>\n",
       "    <tr>\n",
       "      <th>0</th>\n",
       "      <td>1122.0</td>\n",
       "      <td>14.0</td>\n",
       "      <td>29.1</td>\n",
       "      <td>53.8</td>\n",
       "      <td>1.7</td>\n",
       "    </tr>\n",
       "    <tr>\n",
       "      <th>1</th>\n",
       "      <td>1172.0</td>\n",
       "      <td>29.2</td>\n",
       "      <td>22.6</td>\n",
       "      <td>45.9</td>\n",
       "      <td>2.3</td>\n",
       "    </tr>\n",
       "    <tr>\n",
       "      <th>2</th>\n",
       "      <td>1149.0</td>\n",
       "      <td>9.7</td>\n",
       "      <td>23.9</td>\n",
       "      <td>55.4</td>\n",
       "      <td>10.4</td>\n",
       "    </tr>\n",
       "    <tr>\n",
       "      <th>3</th>\n",
       "      <td>1207.0</td>\n",
       "      <td>9.3</td>\n",
       "      <td>31.6</td>\n",
       "      <td>56.9</td>\n",
       "      <td>1.6</td>\n",
       "    </tr>\n",
       "    <tr>\n",
       "      <th>4</th>\n",
       "      <td>1621.0</td>\n",
       "      <td>27.8</td>\n",
       "      <td>11.7</td>\n",
       "      <td>14.2</td>\n",
       "      <td>44.9</td>\n",
       "    </tr>\n",
       "  </tbody>\n",
       "</table>\n",
       "</div>"
      ],
      "text/plain": [
       "   sat_score  asian_per  black_per  hispanic_per  white_per\n",
       "0     1122.0       14.0       29.1          53.8        1.7\n",
       "1     1172.0       29.2       22.6          45.9        2.3\n",
       "2     1149.0        9.7       23.9          55.4       10.4\n",
       "3     1207.0        9.3       31.6          56.9        1.6\n",
       "4     1621.0       27.8       11.7          14.2       44.9"
      ]
     },
     "execution_count": 17,
     "metadata": {},
     "output_type": "execute_result"
    }
   ],
   "source": [
    "eth_cols = ['sat_score', 'asian_per', 'black_per', 'hispanic_per', 'white_per']\n",
    "combined[eth_cols].head()"
   ]
  },
  {
   "cell_type": "code",
   "execution_count": 18,
   "metadata": {},
   "outputs": [
    {
     "data": {
      "text/html": [
       "<div>\n",
       "<style scoped>\n",
       "    .dataframe tbody tr th:only-of-type {\n",
       "        vertical-align: middle;\n",
       "    }\n",
       "\n",
       "    .dataframe tbody tr th {\n",
       "        vertical-align: top;\n",
       "    }\n",
       "\n",
       "    .dataframe thead th {\n",
       "        text-align: right;\n",
       "    }\n",
       "</style>\n",
       "<table border=\"1\" class=\"dataframe\">\n",
       "  <thead>\n",
       "    <tr style=\"text-align: right;\">\n",
       "      <th></th>\n",
       "      <th>sat_score</th>\n",
       "      <th>asian_per</th>\n",
       "      <th>black_per</th>\n",
       "      <th>hispanic_per</th>\n",
       "      <th>white_per</th>\n",
       "    </tr>\n",
       "  </thead>\n",
       "  <tbody>\n",
       "    <tr>\n",
       "      <th>sat_score</th>\n",
       "      <td>1.000000</td>\n",
       "      <td>0.570730</td>\n",
       "      <td>-0.284139</td>\n",
       "      <td>-0.396985</td>\n",
       "      <td>0.620718</td>\n",
       "    </tr>\n",
       "    <tr>\n",
       "      <th>asian_per</th>\n",
       "      <td>0.570730</td>\n",
       "      <td>1.000000</td>\n",
       "      <td>-0.417373</td>\n",
       "      <td>-0.353186</td>\n",
       "      <td>0.349557</td>\n",
       "    </tr>\n",
       "    <tr>\n",
       "      <th>black_per</th>\n",
       "      <td>-0.284139</td>\n",
       "      <td>-0.417373</td>\n",
       "      <td>1.000000</td>\n",
       "      <td>-0.566739</td>\n",
       "      <td>-0.410717</td>\n",
       "    </tr>\n",
       "    <tr>\n",
       "      <th>hispanic_per</th>\n",
       "      <td>-0.396985</td>\n",
       "      <td>-0.353186</td>\n",
       "      <td>-0.566739</td>\n",
       "      <td>1.000000</td>\n",
       "      <td>-0.344970</td>\n",
       "    </tr>\n",
       "    <tr>\n",
       "      <th>white_per</th>\n",
       "      <td>0.620718</td>\n",
       "      <td>0.349557</td>\n",
       "      <td>-0.410717</td>\n",
       "      <td>-0.344970</td>\n",
       "      <td>1.000000</td>\n",
       "    </tr>\n",
       "  </tbody>\n",
       "</table>\n",
       "</div>"
      ],
      "text/plain": [
       "              sat_score  asian_per  black_per  hispanic_per  white_per\n",
       "sat_score      1.000000   0.570730  -0.284139     -0.396985   0.620718\n",
       "asian_per      0.570730   1.000000  -0.417373     -0.353186   0.349557\n",
       "black_per     -0.284139  -0.417373   1.000000     -0.566739  -0.410717\n",
       "hispanic_per  -0.396985  -0.353186  -0.566739      1.000000  -0.344970\n",
       "white_per      0.620718   0.349557  -0.410717     -0.344970   1.000000"
      ]
     },
     "execution_count": 18,
     "metadata": {},
     "output_type": "execute_result"
    }
   ],
   "source": [
    "# Create a correlation matrix between SAT score and ethnicity\n",
    "combined_corr = combined[eth_cols].corr()\n",
    "combined_corr"
   ]
  },
  {
   "cell_type": "code",
   "execution_count": 19,
   "metadata": {},
   "outputs": [
    {
     "data": {
      "image/png": "[encoded data removed]",
      "text/plain": [
       "<Figure size 432x288 with 1 Axes>"
      ]
     },
     "metadata": {
      "needs_background": "light"
     },
     "output_type": "display_data"
    }
   ],
   "source": [
    "# Create a horizontal bar chart of the correlations\n",
    "\n",
    "from numpy import arange\n",
    "\n",
    "bar_widths = combined_corr.iloc[0].values\n",
    "bar_positions = arange(5) + 0.75\n",
    "tick_positions = range(1,6)\n",
    "\n",
    "fig, ax = plt.subplots()\n",
    "ax.barh(bar_positions, bar_widths, 0.75)\n",
    "ax.set_yticks(tick_positions)\n",
    "ax.set_yticklabels(eth_cols)\n",
    "ax.set_ylabel('Ethnicity')\n",
    "ax.set_xlabel('Correlation r-value')\n",
    "ax.set_title('Correlation between SAT Score & Ethnicity')\n",
    "\n",
    "plt.show()"
   ]
  },
  {
   "cell_type": "markdown",
   "metadata": {},
   "source": [
    "Ethnicity and SAT are notably correlated (or negatively-correlated) for all ethnicities. The amount of correlation for all ethnicities was surprising (>.3 and <-.3 in all cases). Hispanics are most negatively affected, followed closely by Blacks. Asians and Whites have positive correlations between their ethnicity and SAT scores.\n",
    "\n",
    "Of course, this all raises a number of questions and possibilities for other variables related to ethnicity. For instance, are many Hispanics located in school districts where there are factors such as safety or academic expectations that negatively influence SAT performance?"
   ]
  },
  {
   "cell_type": "markdown",
   "metadata": {
    "collapsed": true
   },
   "source": [
    "# Exploring Correlations of Gender and SAT Scores\n"
   ]
  },
  {
   "cell_type": "code",
   "execution_count": 20,
   "metadata": {},
   "outputs": [
    {
     "data": {
      "text/html": [
       "<div>\n",
       "<style scoped>\n",
       "    .dataframe tbody tr th:only-of-type {\n",
       "        vertical-align: middle;\n",
       "    }\n",
       "\n",
       "    .dataframe tbody tr th {\n",
       "        vertical-align: top;\n",
       "    }\n",
       "\n",
       "    .dataframe thead th {\n",
       "        text-align: right;\n",
       "    }\n",
       "</style>\n",
       "<table border=\"1\" class=\"dataframe\">\n",
       "  <thead>\n",
       "    <tr style=\"text-align: right;\">\n",
       "      <th></th>\n",
       "      <th>sat_score</th>\n",
       "      <th>male_per</th>\n",
       "      <th>female_per</th>\n",
       "    </tr>\n",
       "  </thead>\n",
       "  <tbody>\n",
       "    <tr>\n",
       "      <th>sat_score</th>\n",
       "      <td>1.000000</td>\n",
       "      <td>-0.112062</td>\n",
       "      <td>0.112108</td>\n",
       "    </tr>\n",
       "    <tr>\n",
       "      <th>male_per</th>\n",
       "      <td>-0.112062</td>\n",
       "      <td>1.000000</td>\n",
       "      <td>-1.000000</td>\n",
       "    </tr>\n",
       "    <tr>\n",
       "      <th>female_per</th>\n",
       "      <td>0.112108</td>\n",
       "      <td>-1.000000</td>\n",
       "      <td>1.000000</td>\n",
       "    </tr>\n",
       "  </tbody>\n",
       "</table>\n",
       "</div>"
      ],
      "text/plain": [
       "            sat_score  male_per  female_per\n",
       "sat_score    1.000000 -0.112062    0.112108\n",
       "male_per    -0.112062  1.000000   -1.000000\n",
       "female_per   0.112108 -1.000000    1.000000"
      ]
     },
     "execution_count": 20,
     "metadata": {},
     "output_type": "execute_result"
    }
   ],
   "source": [
    "# Create a list of columns of interest for gender and SAT score\n",
    "gender_cols = ['sat_score', 'male_per', 'female_per']\n",
    "\n",
    "# Create a correlation matrix of SAT score and percentage of females/males in schools\n",
    "gender_corr = combined[gender_cols].corr()\n",
    "gender_corr"
   ]
  },
  {
   "cell_type": "code",
   "execution_count": 21,
   "metadata": {},
   "outputs": [
    {
     "data": {
      "text/html": [
       "<div>\n",
       "<style scoped>\n",
       "    .dataframe tbody tr th:only-of-type {\n",
       "        vertical-align: middle;\n",
       "    }\n",
       "\n",
       "    .dataframe tbody tr th {\n",
       "        vertical-align: top;\n",
       "    }\n",
       "\n",
       "    .dataframe thead th {\n",
       "        text-align: right;\n",
       "    }\n",
       "</style>\n",
       "<table border=\"1\" class=\"dataframe\">\n",
       "  <thead>\n",
       "    <tr style=\"text-align: right;\">\n",
       "      <th></th>\n",
       "      <th>male_per</th>\n",
       "      <th>female_per</th>\n",
       "    </tr>\n",
       "  </thead>\n",
       "  <tbody>\n",
       "    <tr>\n",
       "      <th>sat_score</th>\n",
       "      <td>-0.112062</td>\n",
       "      <td>0.112108</td>\n",
       "    </tr>\n",
       "    <tr>\n",
       "      <th>male_per</th>\n",
       "      <td>1.000000</td>\n",
       "      <td>-1.000000</td>\n",
       "    </tr>\n",
       "    <tr>\n",
       "      <th>female_per</th>\n",
       "      <td>-1.000000</td>\n",
       "      <td>1.000000</td>\n",
       "    </tr>\n",
       "  </tbody>\n",
       "</table>\n",
       "</div>"
      ],
      "text/plain": [
       "            male_per  female_per\n",
       "sat_score  -0.112062    0.112108\n",
       "male_per    1.000000   -1.000000\n",
       "female_per -1.000000    1.000000"
      ]
     },
     "execution_count": 21,
     "metadata": {},
     "output_type": "execute_result"
    }
   ],
   "source": [
    "gender_cols = gender_cols[1:]\n",
    "gender_cols\n",
    "gender_corr = gender_corr.drop('sat_score', axis=1)\n",
    "gender_corr"
   ]
  },
  {
   "cell_type": "code",
   "execution_count": 27,
   "metadata": {},
   "outputs": [
    {
     "data": {
      "image/png": "[encoded data removed]",
      "text/plain": [
       "<Figure size 432x288 with 1 Axes>"
      ]
     },
     "metadata": {
      "needs_background": "light"
     },
     "output_type": "display_data"
    }
   ],
   "source": [
    "# Create a bar plot of the correlations\n",
    "\n",
    "bar_heights = gender_corr.iloc[0].values\n",
    "bar_positions = ['Male', 'Female']\n",
    "\n",
    "fix, ax = plt.subplots()\n",
    "\n",
    "ax.bar(bar_positions, bar_heights, 0.2)\n",
    "ax.axhline(0, color='grey', alpha=0.5)\n",
    "ax.tick_params(bottom='off', top='off', left='off', right='off')\n",
    "ax.set_title('Correlation of Male & Female Percentage of Student Population and SAT Scores')\n",
    "ax.set_ylabel('Correlation r-value')\n",
    "\n",
    "plt.show()"
   ]
  },
  {
   "cell_type": "markdown",
   "metadata": {},
   "source": [
    "While not a strong correlation, there is an opposing trend between male and female percentages of the student population and SAT scores. Higher female students in the school are correlated with slightly better SAT performance."
   ]
  },
  {
   "cell_type": "code",
   "execution_count": 23,
   "metadata": {},
   "outputs": [
    {
     "data": {
      "text/plain": [
       "<matplotlib.axes._subplots.AxesSubplot at 0x7fb022228750>"
      ]
     },
     "execution_count": 23,
     "metadata": {},
     "output_type": "execute_result"
    },
    {
     "data": {
      "image/png": "[encoded data removed]",
      "text/plain": [
       "<Figure size 432x288 with 1 Axes>"
      ]
     },
     "metadata": {
      "needs_background": "light"
     },
     "output_type": "display_data"
    }
   ],
   "source": [
    "combined.plot.scatter(x='female_per', y='sat_score')"
   ]
  },
  {
   "cell_type": "raw",
   "metadata": {},
   "source": [
    "Part of the reason behind the slight correlation between higher percentages of female students and SAT score may be the greater amount of all-female high schools (approx. 5) compared to all-male schools (approx. 1). While most of the SAT and school population clusters around the 50%-50%, the exceptional cases of single-sex schools may skew the correlation slightly, when, in fact, the scatter plot shows several different trends:\n",
    "\n",
    "- Coed schools with 40%/60% male/female or female/male ratios seem to enjoy the highest SAT scores."
   ]
  },
  {
   "cell_type": "code",
   "execution_count": 24,
   "metadata": {},
   "outputs": [
    {
     "data": {
      "text/plain": [
       "5                         BARD HIGH SCHOOL EARLY COLLEGE\n",
       "26                         ELEANOR ROOSEVELT HIGH SCHOOL\n",
       "37                                STUYVESANT HIGH SCHOOL\n",
       "60                                    BEACON HIGH SCHOOL\n",
       "61     FIORELLO H. LAGUARDIA HIGH SCHOOL OF MUSIC & A...\n",
       "79     HIGH SCHOOL FOR MATHEMATICS, SCIENCE AND ENGIN...\n",
       "151                         BRONX HIGH SCHOOL OF SCIENCE\n",
       "155    HIGH SCHOOL OF AMERICAN STUDIES AT LEHMAN COLLEGE\n",
       "187                       BROOKLYN TECHNICAL HIGH SCHOOL\n",
       "198                           BROOKLYN LATIN SCHOOL, THE\n",
       "302                          TOWNSEND HARRIS HIGH SCHOOL\n",
       "327    QUEENS HIGH SCHOOL FOR THE SCIENCES AT YORK CO...\n",
       "356                  STATEN ISLAND TECHNICAL HIGH SCHOOL\n",
       "Name: SCHOOL NAME, dtype: object"
      ]
     },
     "execution_count": 24,
     "metadata": {},
     "output_type": "execute_result"
    }
   ],
   "source": [
    "# Create list of schools with a 60% or greater female percentage and\n",
    "# average SAT scores greater than 1700\n",
    "\n",
    "fem_schools_mask = (combined['female_per'] > 0.6) & (combined['sat_score'] > 1700)\n",
    "\n",
    "top_fem_schools = combined[fem_schools_mask]\n",
    "top_fem_schools['SCHOOL NAME']"
   ]
  },
  {
   "cell_type": "markdown",
   "metadata": {},
   "source": [
    "These top schools are academically accelerated magnet schools with either pre-college formats or specialties in STEM or Libral Arts."
   ]
  },
  {
   "cell_type": "markdown",
   "metadata": {},
   "source": [
    "# Exploring AP Test Taking and SAT Scores\n",
    "\n",
    "Next, we'll explore the percentage of AP test takers as percentage of the total school population and the relationship to SAT scores."
   ]
  },
  {
   "cell_type": "code",
   "execution_count": 25,
   "metadata": {},
   "outputs": [],
   "source": [
    "# Create a new column of the percentage of AP test takers\n",
    "combined['ap_per'] = combined['AP Test Takers '] / combined['total_enrollment']"
   ]
  },
  {
   "cell_type": "code",
   "execution_count": 26,
   "metadata": {},
   "outputs": [
    {
     "data": {
      "text/plain": [
       "<matplotlib.axes._subplots.AxesSubplot at 0x7fb00c848210>"
      ]
     },
     "execution_count": 26,
     "metadata": {},
     "output_type": "execute_result"
    },
    {
     "data": {
      "image/png": "[encoded data removed]",
      "text/plain": [
       "<Figure size 432x288 with 1 Axes>"
      ]
     },
     "metadata": {
      "needs_background": "light"
     },
     "output_type": "display_data"
    }
   ],
   "source": [
    "combined.plot.scatter(x='ap_per', y='sat_score')"
   ]
  },
  {
   "cell_type": "markdown",
   "metadata": {},
   "source": [
    "Overall, there is an expected positive correlation between a higher percentage of AP test takers at a school and average SAT scores. However, the scatter plot diverges into a forked pattern:\n",
    "\n",
    "- the upper fork reflects the positive correlation and SAT scores are maximized in a few cases where approximately 50% of students take AP exams.\n",
    "- the lower fork contains a dense cluster of scorres between 1000-1200 and exhibits a slight downward trajectory as AP test takers go from 20-40% of the population.\n",
    "    - Further on, schools with much higher percentages of AP test takers, struggle to break the 1200 average score barrier.\n",
    "    \n",
    "The results may indicate that compulsory or incentivized schemes to increase AP test taking may actually inhibit students on average from excelling in the SAT test. Perhaps the time committment for preparing for the AP test leaves little time for SAT preparation. Combined with the time committment, perhaps higher percentages of AP test taking correspond to earlier AP test taking and thus double committments in the junior year as students juggle the SAT and AP tests."
   ]
  },
  {
   "cell_type": "markdown",
   "metadata": {},
   "source": [
    "# (Next steps for research...)\n",
    "\n",
    "- Determine wheter there's a correlation between class size and SAT scores\n",
    "- Figure out which neighborhoods have the best schools\n",
    "    - If we combine this information with a dataset containing property values, we could find the least expensive neighborhoods that have good schools.\n",
    "- Investigate the differences between parent, teacher, and student responses to surveys.\n",
    "- Assign scores to schools based on sat_score and other attributes."
   ]
  }
 ],
 "metadata": {
  "kernelspec": {
   "display_name": "Python 3",
   "language": "python",
   "name": "python3"
  },
  "language_info": {
   "codemirror_mode": {
    "name": "ipython",
    "version": 3
   },
   "file_extension": ".py",
   "mimetype": "text/x-python",
   "name": "python",
   "nbconvert_exporter": "python",
   "pygments_lexer": "ipython3",
   "version": "3.7.6"
  }
 },
 "nbformat": 4,
 "nbformat_minor": 2
}
